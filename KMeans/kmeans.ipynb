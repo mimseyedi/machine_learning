{
 "cells": [
  {
   "cell_type": "markdown",
   "id": "3268d0cb",
   "metadata": {},
   "source": [
    "# K-Means Clustering:"
   ]
  },
  {
   "cell_type": "markdown",
   "id": "5c65641c",
   "metadata": {},
   "source": [
    "Here I am going to share with you everything I know about K-Means and Clustering. All the information I gathered in these files was from free educational resources that I collected and improved with the help of my own knowledge. A link to all the resources I used can be seen at the end of this file. This collection is completely free and you can freely share it with other friends. I hope you can help increase your knowledge in machine learning."
   ]
  },
  {
   "cell_type": "markdown",
   "id": "ca77aba5",
   "metadata": {},
   "source": [
    "## Table of Contents: <a class=\"anchor\" id=\"contents\"></a>\n",
    "* [What is KMeans?](#what_is_kmeans)\n",
    "* [About Dataset](#about_dataset)\n",
    "* [Preprocessing](#preprocessing)\n",
    "* [Clustering and Modeling](#clustering)\n",
    "* [Model Evaluation](#model_evaluation)\n",
    "* [Resources](#resources)"
   ]
  },
  {
   "cell_type": "markdown",
   "id": "0e2325d0",
   "metadata": {},
   "source": [
    "## -What is KMeans? <a class=\"anchor\" id=\"what_is_kmeans\"></a>\n",
    "here are many models for clustering out there. In this notebook, we will be presenting the model that is considered one of the simplest models amongst them. Despite its simplicity, the K-means is vastly used for clustering in many data science applications, it is especially useful if you need to quickly discover insights from unlabeled data. In this notebook, you will learn how to use k-Means for customer segmentation.\n",
    "\n",
    "Some real-world applications of k-means:\n",
    "\n",
    "*    Customer segmentation\n",
    "*    Understand what the visitors of a website are trying to accomplish\n",
    "*    Pattern recognition\n",
    "*    Machine learning\n",
    "*    Data compression\n",
    "\n",
    "In this notebook we practice k-means clustering with 2 examples:\n",
    "\n",
    "*    k-means on a random generated dataset\n",
    "*    Using k-means for customer segmentation\n"
   ]
  },
  {
   "cell_type": "markdown",
   "id": "649f90ea",
   "metadata": {},
   "source": [
    "<img src=\"https://opg.optica.org/getImage.cfm?img=QC5sYXJnZSxvZS0yNS0yMi0yNzU3MC1nMDAx\">"
   ]
  },
  {
   "cell_type": "markdown",
   "id": "9e3952d5",
   "metadata": {},
   "source": [
    "Kmeans algorithm is an iterative algorithm that tries to partition the dataset into Kpre-defined distinct non-overlapping subgroups (clusters) where each data point belongs to only one group. It tries to make the intra-cluster data points as similar as possible while also keeping the clusters as different (far) as possible. It assigns data points to a cluster such that the sum of the squared distance between the data points and the cluster’s centroid (arithmetic mean of all the data points that belong to that cluster) is at the minimum. The less variation we have within clusters, the more homogeneous (similar) the data points are within the same cluster.\n",
    "\n",
    "The way kmeans algorithm works is as follows:\n",
    "\n",
    "*    Specify number of clusters K.\n",
    "*    Initialize centroids by first shuffling the dataset and then randomly selecting K data   points for the centroids without replacement.\n",
    "*    Keep iterating until there is no change to the centroids. i.e assignment of data points to clusters isn’t changing.\n",
    "\n",
    "*    Compute the sum of the squared distance between data points and all centroids.\n",
    "*    Assign each data point to the closest cluster (centroid).\n",
    "*    Compute the centroids for the clusters by taking the average of the all data points that belong to each cluster."
   ]
  },
  {
   "cell_type": "markdown",
   "id": "c77bdabd",
   "metadata": {},
   "source": [
    "The objective function is:"
   ]
  },
  {
   "cell_type": "markdown",
   "id": "41af6661",
   "metadata": {},
   "source": [
    "<img src=\"https://wikimedia.org/api/rest_v1/media/math/render/svg/26f6cae7ba4d68b88acc3dac37c595da607e91f6\">"
   ]
  },
  {
   "cell_type": "markdown",
   "id": "f4c0b64e",
   "metadata": {},
   "source": [
    "where wik=1 for data point xi if it belongs to cluster k; otherwise, wik=0. Also, μk is the centroid of xi’s cluster.\n",
    "\n",
    "It’s a minimization problem of two parts. We first minimize J w.r.t. wik and treat μk fixed. Then we minimize J w.r.t. μk and treat wik fixed. Technically speaking, we differentiate J w.r.t. wik first and update cluster assignments (E-step). Then we differentiate J w.r.t. μk and recompute the centroids after the cluster assignments from previous step (M-step)."
   ]
  },
  {
   "cell_type": "markdown",
   "id": "e999ba5d",
   "metadata": {},
   "source": [
    "Few things to note here:\n",
    "\n",
    "*    Since clustering algorithms including kmeans use distance-based measurements to determine the similarity between data points, it’s recommended to standardize the data to have a mean of zero and a standard deviation of one since almost always the features in any dataset would have different units of measurements such as age vs income.\n",
    "*    Given kmeans iterative nature and the random initialization of centroids at the start of the algorithm, different initializations may lead to different clusters since kmeans algorithm may stuck in a local optimum and may not converge to global optimum. Therefore, it’s recommended to run the algorithm using different initializations of centroids and pick the results of the run that that yielded the lower sum of squared distance.\n",
    "*    Assignment of examples isn’t changing is the same thing as no change in within-cluster variation:"
   ]
  },
  {
   "cell_type": "markdown",
   "id": "ddce21b9",
   "metadata": {},
   "source": [
    "* [go to contents](#contents)"
   ]
  },
  {
   "cell_type": "markdown",
   "id": "60d2ca03",
   "metadata": {},
   "source": [
    "## -About Dataset: <a class=\"anchor\" id=\"about_dataset\"></a>\n",
    "\n",
    "### `Mall_Customers.csv`:\n",
    "\n",
    "This is a set of customers of a store that we are going to cluster with the help of kmeans algorithm and put customers in different categories and study their behavior.\n",
    "\n",
    "**columns:**\n",
    "\n",
    "*  CustomerID\n",
    "*  Gender\n",
    "*  Age\n",
    "*  Annual Income\n",
    "*  Spending Score"
   ]
  },
  {
   "cell_type": "markdown",
   "id": "8bccdaf7",
   "metadata": {},
   "source": [
    "## -Preprocessing: <a class=\"anchor\" id=\"preprocessing\"></a>"
   ]
  },
  {
   "cell_type": "markdown",
   "id": "ae0a9ba8",
   "metadata": {},
   "source": [
    "### Importing Packages:"
   ]
  },
  {
   "cell_type": "code",
   "execution_count": 1,
   "id": "223710f4",
   "metadata": {},
   "outputs": [],
   "source": [
    "import numpy as np\n",
    "import pandas as pd\n",
    "import matplotlib.pyplot as plt\n",
    "import warnings\n",
    "%matplotlib inline\n",
    "warnings.filterwarnings('ignore')\n",
    "plt.style.use(\"seaborn-whitegrid\")"
   ]
  },
  {
   "cell_type": "code",
   "execution_count": 2,
   "id": "9646fb72",
   "metadata": {},
   "outputs": [
    {
     "data": {
      "text/html": [
       "<div>\n",
       "<style scoped>\n",
       "    .dataframe tbody tr th:only-of-type {\n",
       "        vertical-align: middle;\n",
       "    }\n",
       "\n",
       "    .dataframe tbody tr th {\n",
       "        vertical-align: top;\n",
       "    }\n",
       "\n",
       "    .dataframe thead th {\n",
       "        text-align: right;\n",
       "    }\n",
       "</style>\n",
       "<table border=\"1\" class=\"dataframe\">\n",
       "  <thead>\n",
       "    <tr style=\"text-align: right;\">\n",
       "      <th></th>\n",
       "      <th>CustomerID</th>\n",
       "      <th>Gender</th>\n",
       "      <th>Age</th>\n",
       "      <th>Annual Income</th>\n",
       "      <th>Spending Score</th>\n",
       "    </tr>\n",
       "  </thead>\n",
       "  <tbody>\n",
       "    <tr>\n",
       "      <th>0</th>\n",
       "      <td>1</td>\n",
       "      <td>Male</td>\n",
       "      <td>19.0</td>\n",
       "      <td>15.0</td>\n",
       "      <td>39.0</td>\n",
       "    </tr>\n",
       "    <tr>\n",
       "      <th>1</th>\n",
       "      <td>2</td>\n",
       "      <td>Male</td>\n",
       "      <td>21.0</td>\n",
       "      <td>15.0</td>\n",
       "      <td>81.0</td>\n",
       "    </tr>\n",
       "    <tr>\n",
       "      <th>2</th>\n",
       "      <td>3</td>\n",
       "      <td>Female</td>\n",
       "      <td>20.0</td>\n",
       "      <td>16.0</td>\n",
       "      <td>6.0</td>\n",
       "    </tr>\n",
       "    <tr>\n",
       "      <th>3</th>\n",
       "      <td>4</td>\n",
       "      <td>Female</td>\n",
       "      <td>23.0</td>\n",
       "      <td>16.0</td>\n",
       "      <td>77.0</td>\n",
       "    </tr>\n",
       "    <tr>\n",
       "      <th>4</th>\n",
       "      <td>5</td>\n",
       "      <td>Female</td>\n",
       "      <td>31.0</td>\n",
       "      <td>17.0</td>\n",
       "      <td>40.0</td>\n",
       "    </tr>\n",
       "  </tbody>\n",
       "</table>\n",
       "</div>"
      ],
      "text/plain": [
       "   CustomerID  Gender   Age  Annual Income  Spending Score\n",
       "0           1    Male  19.0           15.0            39.0\n",
       "1           2    Male  21.0           15.0            81.0\n",
       "2           3  Female  20.0           16.0             6.0\n",
       "3           4  Female  23.0           16.0            77.0\n",
       "4           5  Female  31.0           17.0            40.0"
      ]
     },
     "execution_count": 2,
     "metadata": {},
     "output_type": "execute_result"
    }
   ],
   "source": [
    "data = pd.read_csv(\"Mall_Customers.csv\")\n",
    "data.head()"
   ]
  },
  {
   "cell_type": "markdown",
   "id": "cf0201a0",
   "metadata": {},
   "source": [
    "### 1-Checking Missing Values:"
   ]
  },
  {
   "cell_type": "code",
   "execution_count": 3,
   "id": "57c439b5",
   "metadata": {},
   "outputs": [
    {
     "data": {
      "text/plain": [
       "CustomerID        0\n",
       "Gender            0\n",
       "Age               3\n",
       "Annual Income     5\n",
       "Spending Score    4\n",
       "dtype: int64"
      ]
     },
     "execution_count": 3,
     "metadata": {},
     "output_type": "execute_result"
    }
   ],
   "source": [
    "data.isna().sum()"
   ]
  },
  {
   "cell_type": "markdown",
   "id": "808f24d3",
   "metadata": {},
   "source": [
    "### 2-Checking duplicates:"
   ]
  },
  {
   "cell_type": "code",
   "execution_count": 4,
   "id": "b5be2e32",
   "metadata": {},
   "outputs": [
    {
     "data": {
      "text/plain": [
       "0"
      ]
     },
     "execution_count": 4,
     "metadata": {},
     "output_type": "execute_result"
    }
   ],
   "source": [
    "data.duplicated().sum()"
   ]
  },
  {
   "cell_type": "markdown",
   "id": "b42d62c9",
   "metadata": {},
   "source": [
    "### 3-Replacing 'Female' and 'Male' with 1, 0:"
   ]
  },
  {
   "cell_type": "code",
   "execution_count": 5,
   "id": "6cf0d263",
   "metadata": {},
   "outputs": [],
   "source": [
    "data.Gender.replace({\"Male\": 0, \"Female\": 1}, inplace=True)"
   ]
  },
  {
   "cell_type": "markdown",
   "id": "4f304db2",
   "metadata": {},
   "source": [
    "### 4-Imputing Nulls:"
   ]
  },
  {
   "cell_type": "code",
   "execution_count": 6,
   "id": "f39a5543",
   "metadata": {},
   "outputs": [],
   "source": [
    "from sklearn.impute import KNNImputer\n",
    "imputer = KNNImputer().fit(data)\n",
    "data = imputer.transform(data)"
   ]
  },
  {
   "cell_type": "markdown",
   "id": "5032cda9",
   "metadata": {},
   "source": [
    "### plotting Data:"
   ]
  },
  {
   "cell_type": "code",
   "execution_count": 7,
   "id": "616fa3db",
   "metadata": {
    "scrolled": false
   },
   "outputs": [
    {
     "data": {
      "image/png": "[encoded data removed]",
      "text/plain": [
       "<Figure size 864x504 with 1 Axes>"
      ]
     },
     "metadata": {},
     "output_type": "display_data"
    }
   ],
   "source": [
    "plt.rcParams[\"figure.figsize\"] = (12, 7)\n",
    "plt.scatter(x=data[::,3], y=data[::,4]);"
   ]
  },
  {
   "cell_type": "markdown",
   "id": "3dff7a6a",
   "metadata": {},
   "source": [
    "* [go to contents](#contents)"
   ]
  },
  {
   "cell_type": "markdown",
   "id": "996044e8",
   "metadata": {},
   "source": [
    "## -Clustering and Modeling: <a class=\"anchor\" id=\"clustering\"></a>"
   ]
  },
  {
   "cell_type": "code",
   "execution_count": 8,
   "id": "b9ee5f6d",
   "metadata": {
    "scrolled": true
   },
   "outputs": [
    {
     "data": {
      "text/plain": [
       "KMeans(n_clusters=5)"
      ]
     },
     "execution_count": 8,
     "metadata": {},
     "output_type": "execute_result"
    }
   ],
   "source": [
    "from sklearn.cluster import KMeans\n",
    "\n",
    "model = KMeans(n_clusters=5)\n",
    "model.fit(data)"
   ]
  },
  {
   "cell_type": "markdown",
   "id": "f098047d",
   "metadata": {},
   "source": [
    "### Plotting:"
   ]
  },
  {
   "cell_type": "code",
   "execution_count": 9,
   "id": "1d01fbc6",
   "metadata": {
    "scrolled": false
   },
   "outputs": [
    {
     "data": {
      "image/png": "[encoded data removed]",
      "text/plain": [
       "<Figure size 864x504 with 1 Axes>"
      ]
     },
     "metadata": {},
     "output_type": "display_data"
    }
   ],
   "source": [
    "colors = np.array(['red', 'green', 'blue', 'orange', 'black'])\n",
    "plt.scatter(data[::, 3], data[::, 4], c=colors[model.labels_])\n",
    "plt.show()"
   ]
  },
  {
   "cell_type": "markdown",
   "id": "0fb7a6a4",
   "metadata": {},
   "source": [
    "* [go to contents](#contents)"
   ]
  },
  {
   "cell_type": "markdown",
   "id": "b3e0770b",
   "metadata": {},
   "source": [
    "## -Model Evaluation: <a class=\"anchor\" id=\"model_evaluation\"></a>\n"
   ]
  },
  {
   "cell_type": "markdown",
   "id": "fe871c80",
   "metadata": {},
   "source": [
    "### Silhouette score:\n",
    "\n",
    "Silhouette score is used to evaluate the quality of clusters created using clustering algorithms such as K-Means in terms of how well samples are clustered with other samples that are similar to each other. The Silhouette score is calculated for each sample of different clusters. To calculate the Silhouette score for each observation/data point, the following distances need to be found out for each observations belonging to all the clusters:\n",
    "\n",
    "*    Mean distance between the observation and all other data points in the same cluster. This distance can also be called a mean intra-cluster distance. The mean distance is denoted by a\n",
    "*    Mean distance between the observation and all other data points of the next nearest cluster. This distance can also be called a mean nearest-cluster distance. The mean distance is denoted by b\n",
    "\n",
    "Silhouette score, S, for each sample is calculated using the following formula:\n",
    "\n",
    "\\(S = \\frac{(b - a)}{max(a, b)}\\)"
   ]
  },
  {
   "cell_type": "code",
   "execution_count": 10,
   "id": "edd2e9ee",
   "metadata": {},
   "outputs": [
    {
     "name": "stdout",
     "output_type": "stream",
     "text": [
      "0.43957158200306806\n"
     ]
    }
   ],
   "source": [
    "from sklearn.metrics import silhouette_score\n",
    "\n",
    "print(silhouette_score(data, model.labels_))"
   ]
  },
  {
   "cell_type": "markdown",
   "id": "dbc94846",
   "metadata": {},
   "source": [
    "### Checking Max Silhouettes:"
   ]
  },
  {
   "cell_type": "code",
   "execution_count": 11,
   "id": "73deab1b",
   "metadata": {
    "scrolled": false
   },
   "outputs": [
    {
     "data": {
      "image/png": "[encoded data removed]",
      "text/plain": [
       "<Figure size 864x504 with 1 Axes>"
      ]
     },
     "metadata": {},
     "output_type": "display_data"
    }
   ],
   "source": [
    "silhouettes = []\n",
    "for n_clusters in range(2, 20):\n",
    "    model = KMeans(n_clusters, max_iter=100).fit(data)\n",
    "    silhouettes.append(silhouette_score(data, model.labels_))\n",
    "plt.plot(range(2, 20), silhouettes)\n",
    "plt.show()"
   ]
  },
  {
   "cell_type": "markdown",
   "id": "98493635",
   "metadata": {},
   "source": [
    "* [go to contents](#contents)"
   ]
  },
  {
   "cell_type": "markdown",
   "id": "c19bccd8",
   "metadata": {},
   "source": [
    "## -Resources: <a class=\"anchor\" id=\"resources\"></a>"
   ]
  },
  {
   "cell_type": "markdown",
   "id": "09162f3a",
   "metadata": {},
   "source": [
    "   *    Edx IBM Developer Skills Network, Machine Learning Course With Saaed Aghabozorgi & Joseph Santarcangelo.\n",
    "   *    Maktabkhooneh Machine Learning With Jadi Course.\n",
    "   *    https://dzone.com/articles/kmeans-silhouette-score-explained-with-python-exam"
   ]
  },
  {
   "cell_type": "markdown",
   "id": "4b05aed0",
   "metadata": {},
   "source": [
    "* [go to contents](#contents)"
   ]
  }
 ],
 "metadata": {
  "kernelspec": {
   "display_name": "Python 3 (ipykernel)",
   "language": "python",
   "name": "python3"
  },
  "language_info": {
   "codemirror_mode": {
    "name": "ipython",
    "version": 3
   },
   "file_extension": ".py",
   "mimetype": "text/x-python",
   "name": "python",
   "nbconvert_exporter": "python",
   "pygments_lexer": "ipython3",
   "version": "3.8.10"
  }
 },
 "nbformat": 4,
 "nbformat_minor": 5
}
