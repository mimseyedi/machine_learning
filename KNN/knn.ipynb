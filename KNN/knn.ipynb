{
 "cells": [
  {
   "cell_type": "markdown",
   "id": "147dd314",
   "metadata": {},
   "source": [
    "# **K-Nearest Neighbors (KNN)**:\n",
    "Here I am going to share with you everything I know about **KNN** and Classification.\n",
    "All the information I gathered in these files was from free **educational resources** that I collected and improved with the help of my own knowledge.\n",
    "A link to all the **resources** I used can be seen at the **end of this file**.\n",
    "This collection is completely **free** and you can freely **share** it with other friends. I hope you can help increase your knowledge in **machine learning**."
   ]
  },
  {
   "cell_type": "markdown",
   "id": "08423866",
   "metadata": {},
   "source": [
    "## Contents: <a class=\"anchor\" id=\"contents\"></a>\n",
    "* [What is KNN?](#what_is_knn)\n",
    "* [About Iris Dataset](#iris)\n",
    "* [Classification](#classification)\n",
    "* [Model Evaluation](#model_evaluation)\n",
    "* [KNN Regression](#knn_reg)\n",
    "* [Resources](#resources)"
   ]
  },
  {
   "cell_type": "markdown",
   "id": "196778f8",
   "metadata": {},
   "source": [
    "## -What is KNN? <a class=\"anchor\" id=\"what_is_knn\"></a>\n",
    "**K-Nearest Neighbors** is a supervised learning algorithm. Where the data is 'trained' with data points corresponding to their classification. To predict the class of a given data point, it takes into account the classes of the 'K' nearest data points and chooses the class in which the majority of the 'K' nearest data points belong to as the predicted class."
   ]
  },
  {
   "cell_type": "markdown",
   "id": "d9f26db4",
   "metadata": {},
   "source": [
    "### Here's an visualization of the K-Nearest Neighbors algorithm.\n",
    "\n",
    "<img src=\"https://cf-courses-data.s3.us.cloud-object-storage.appdomain.cloud/IBMDeveloperSkillsNetwork-ML0101EN-SkillsNetwork/labs/Module%203/images/KNN_Diagram.png\">\n"
   ]
  },
  {
   "cell_type": "markdown",
   "id": "0ffe821a",
   "metadata": {},
   "source": [
    "In this case, we have data points of Class A and B. We want to predict what the star (test data point) is. If we consider a k value of 3 (3 nearest data points), we will obtain a prediction of Class B. Yet if we consider a k value of 6, we will obtain a prediction of Class A.\n",
    "\n",
    "\n",
    "In this sense, it is important to consider the value of k. Hopefully from this diagram, you should get a sense of what the K-Nearest Neighbors algorithm is. It considers the 'K' Nearest Neighbors (data points) when it predicts the classification of the test point."
   ]
  },
  {
   "cell_type": "markdown",
   "id": "94aaf0d4",
   "metadata": {},
   "source": [
    "### Distance Method:"
   ]
  },
  {
   "cell_type": "markdown",
   "id": "7756a341",
   "metadata": {},
   "source": [
    "**KNN Algorithm** uses the **Euclidean distance** method to measure between points to identify the nearest neighbors."
   ]
  },
  {
   "cell_type": "markdown",
   "id": "034f387e",
   "metadata": {},
   "source": [
    "<img src=\"https://miro.medium.com/max/1400/1*yjxwoNqIwb1fXW26HvK_Kw.png\">"
   ]
  },
  {
   "cell_type": "markdown",
   "id": "a0c701f0",
   "metadata": {},
   "source": [
    "#### The formula to calculate Euclidean distance is:"
   ]
  },
  {
   "cell_type": "markdown",
   "id": "4265431b",
   "metadata": {},
   "source": [
    "<img src=\"https://www.gstatic.com/education/formulas2/397133473/en/euclidean_distance.svg\" width=250>"
   ]
  },
  {
   "cell_type": "markdown",
   "id": "7f102658",
   "metadata": {},
   "source": [
    "* [go to contents](#contents)"
   ]
  },
  {
   "cell_type": "markdown",
   "id": "d2cdbd68",
   "metadata": {},
   "source": [
    "## -About Iris Dataset: <a class=\"anchor\" id=\"iris\"></a>\n",
    "\n",
    "### `iris.csv`:"
   ]
  },
  {
   "cell_type": "markdown",
   "id": "ffb38fb0",
   "metadata": {},
   "source": [
    "This is an example of a notebook to demonstrate concepts of Data Science. In this example we will do some exploratory data analysis on the famous Iris dataset.\n",
    "\n",
    "The Iris Dataset contains four features (length and width of sepals and petals) of 50 samples of three species of Iris (Iris setosa, Iris virginica and Iris versicolor). These measures were used to create a linear discriminant model to classify the species. The dataset is often used in data mining, classification and clustering examples and to test algorithms."
   ]
  },
  {
   "cell_type": "markdown",
   "id": "2554e4ba",
   "metadata": {},
   "source": [
    "* [go to contents](#contents)"
   ]
  },
  {
   "cell_type": "markdown",
   "id": "1097a5c2",
   "metadata": {},
   "source": [
    "## -Classification: <a class=\"anchor\" id=\"classification\"></a>"
   ]
  },
  {
   "cell_type": "markdown",
   "id": "1bd591b9",
   "metadata": {},
   "source": [
    "Classification is the process of predicting the class of given data points. Classes are sometimes called as targets/ labels or categories. Classification predictive modeling is the task of approximating a mapping function (f) from input variables (X) to discrete output variables (y)."
   ]
  },
  {
   "cell_type": "markdown",
   "id": "5a3267a9",
   "metadata": {},
   "source": [
    "### Importing Packages:"
   ]
  },
  {
   "cell_type": "code",
   "execution_count": 1,
   "id": "782531b8",
   "metadata": {},
   "outputs": [],
   "source": [
    "import numpy as np\n",
    "import pandas as pd\n",
    "import matplotlib.pyplot as plt\n",
    "import warnings\n",
    "%matplotlib inline\n",
    "warnings.filterwarnings('ignore')\n",
    "plt.style.use(\"seaborn-whitegrid\")"
   ]
  },
  {
   "cell_type": "markdown",
   "id": "2abbeb36",
   "metadata": {},
   "source": [
    "### Reading The Dataset:"
   ]
  },
  {
   "cell_type": "code",
   "execution_count": 2,
   "id": "453d78cd",
   "metadata": {},
   "outputs": [
    {
     "data": {
      "text/html": [
       "<div>\n",
       "<style scoped>\n",
       "    .dataframe tbody tr th:only-of-type {\n",
       "        vertical-align: middle;\n",
       "    }\n",
       "\n",
       "    .dataframe tbody tr th {\n",
       "        vertical-align: top;\n",
       "    }\n",
       "\n",
       "    .dataframe thead th {\n",
       "        text-align: right;\n",
       "    }\n",
       "</style>\n",
       "<table border=\"1\" class=\"dataframe\">\n",
       "  <thead>\n",
       "    <tr style=\"text-align: right;\">\n",
       "      <th></th>\n",
       "      <th>sepal.length</th>\n",
       "      <th>sepal.width</th>\n",
       "      <th>petal.length</th>\n",
       "      <th>petal.width</th>\n",
       "      <th>variety</th>\n",
       "    </tr>\n",
       "  </thead>\n",
       "  <tbody>\n",
       "    <tr>\n",
       "      <th>0</th>\n",
       "      <td>5.1</td>\n",
       "      <td>3.5</td>\n",
       "      <td>1.4</td>\n",
       "      <td>0.2</td>\n",
       "      <td>Setosa</td>\n",
       "    </tr>\n",
       "    <tr>\n",
       "      <th>1</th>\n",
       "      <td>4.9</td>\n",
       "      <td>3.0</td>\n",
       "      <td>1.4</td>\n",
       "      <td>0.2</td>\n",
       "      <td>Setosa</td>\n",
       "    </tr>\n",
       "    <tr>\n",
       "      <th>2</th>\n",
       "      <td>4.7</td>\n",
       "      <td>3.2</td>\n",
       "      <td>1.3</td>\n",
       "      <td>0.2</td>\n",
       "      <td>Setosa</td>\n",
       "    </tr>\n",
       "    <tr>\n",
       "      <th>3</th>\n",
       "      <td>4.6</td>\n",
       "      <td>3.1</td>\n",
       "      <td>1.5</td>\n",
       "      <td>0.2</td>\n",
       "      <td>Setosa</td>\n",
       "    </tr>\n",
       "    <tr>\n",
       "      <th>4</th>\n",
       "      <td>5.0</td>\n",
       "      <td>3.6</td>\n",
       "      <td>1.4</td>\n",
       "      <td>0.2</td>\n",
       "      <td>Setosa</td>\n",
       "    </tr>\n",
       "  </tbody>\n",
       "</table>\n",
       "</div>"
      ],
      "text/plain": [
       "   sepal.length  sepal.width  petal.length  petal.width variety\n",
       "0           5.1          3.5           1.4          0.2  Setosa\n",
       "1           4.9          3.0           1.4          0.2  Setosa\n",
       "2           4.7          3.2           1.3          0.2  Setosa\n",
       "3           4.6          3.1           1.5          0.2  Setosa\n",
       "4           5.0          3.6           1.4          0.2  Setosa"
      ]
     },
     "execution_count": 2,
     "metadata": {},
     "output_type": "execute_result"
    }
   ],
   "source": [
    "data = pd.read_csv(\"iris.csv\")\n",
    "data.head()"
   ]
  },
  {
   "cell_type": "markdown",
   "id": "99b93a52",
   "metadata": {},
   "source": [
    "### Data Exploration:\n",
    "Let's first have a **descriptive** exploration on our data."
   ]
  },
  {
   "cell_type": "code",
   "execution_count": 3,
   "id": "e6709e7d",
   "metadata": {
    "scrolled": true
   },
   "outputs": [
    {
     "data": {
      "text/html": [
       "<div>\n",
       "<style scoped>\n",
       "    .dataframe tbody tr th:only-of-type {\n",
       "        vertical-align: middle;\n",
       "    }\n",
       "\n",
       "    .dataframe tbody tr th {\n",
       "        vertical-align: top;\n",
       "    }\n",
       "\n",
       "    .dataframe thead th {\n",
       "        text-align: right;\n",
       "    }\n",
       "</style>\n",
       "<table border=\"1\" class=\"dataframe\">\n",
       "  <thead>\n",
       "    <tr style=\"text-align: right;\">\n",
       "      <th></th>\n",
       "      <th>sepal.length</th>\n",
       "      <th>sepal.width</th>\n",
       "      <th>petal.length</th>\n",
       "      <th>petal.width</th>\n",
       "    </tr>\n",
       "  </thead>\n",
       "  <tbody>\n",
       "    <tr>\n",
       "      <th>count</th>\n",
       "      <td>150.000000</td>\n",
       "      <td>150.000000</td>\n",
       "      <td>150.000000</td>\n",
       "      <td>150.000000</td>\n",
       "    </tr>\n",
       "    <tr>\n",
       "      <th>mean</th>\n",
       "      <td>5.843333</td>\n",
       "      <td>3.057333</td>\n",
       "      <td>3.758000</td>\n",
       "      <td>1.199333</td>\n",
       "    </tr>\n",
       "    <tr>\n",
       "      <th>std</th>\n",
       "      <td>0.828066</td>\n",
       "      <td>0.435866</td>\n",
       "      <td>1.765298</td>\n",
       "      <td>0.762238</td>\n",
       "    </tr>\n",
       "    <tr>\n",
       "      <th>min</th>\n",
       "      <td>4.300000</td>\n",
       "      <td>2.000000</td>\n",
       "      <td>1.000000</td>\n",
       "      <td>0.100000</td>\n",
       "    </tr>\n",
       "    <tr>\n",
       "      <th>25%</th>\n",
       "      <td>5.100000</td>\n",
       "      <td>2.800000</td>\n",
       "      <td>1.600000</td>\n",
       "      <td>0.300000</td>\n",
       "    </tr>\n",
       "    <tr>\n",
       "      <th>50%</th>\n",
       "      <td>5.800000</td>\n",
       "      <td>3.000000</td>\n",
       "      <td>4.350000</td>\n",
       "      <td>1.300000</td>\n",
       "    </tr>\n",
       "    <tr>\n",
       "      <th>75%</th>\n",
       "      <td>6.400000</td>\n",
       "      <td>3.300000</td>\n",
       "      <td>5.100000</td>\n",
       "      <td>1.800000</td>\n",
       "    </tr>\n",
       "    <tr>\n",
       "      <th>max</th>\n",
       "      <td>7.900000</td>\n",
       "      <td>4.400000</td>\n",
       "      <td>6.900000</td>\n",
       "      <td>2.500000</td>\n",
       "    </tr>\n",
       "  </tbody>\n",
       "</table>\n",
       "</div>"
      ],
      "text/plain": [
       "       sepal.length  sepal.width  petal.length  petal.width\n",
       "count    150.000000   150.000000    150.000000   150.000000\n",
       "mean       5.843333     3.057333      3.758000     1.199333\n",
       "std        0.828066     0.435866      1.765298     0.762238\n",
       "min        4.300000     2.000000      1.000000     0.100000\n",
       "25%        5.100000     2.800000      1.600000     0.300000\n",
       "50%        5.800000     3.000000      4.350000     1.300000\n",
       "75%        6.400000     3.300000      5.100000     1.800000\n",
       "max        7.900000     4.400000      6.900000     2.500000"
      ]
     },
     "execution_count": 3,
     "metadata": {},
     "output_type": "execute_result"
    }
   ],
   "source": [
    "data.describe()"
   ]
  },
  {
   "cell_type": "markdown",
   "id": "34bfd103",
   "metadata": {},
   "source": [
    "### Plotting Data:"
   ]
  },
  {
   "cell_type": "code",
   "execution_count": 4,
   "id": "62c5d70b",
   "metadata": {},
   "outputs": [
    {
     "data": {
      "image/png": "[encoded data removed]",
      "text/plain": [
       "<Figure size 1080x576 with 1 Axes>"
      ]
     },
     "metadata": {},
     "output_type": "display_data"
    }
   ],
   "source": [
    "setosa = data[data[\"variety\"] == \"Setosa\"]\n",
    "versicolor = data[data[\"variety\"] == \"Versicolor\"]\n",
    "virginica = data[data[\"variety\"] == \"Virginica\"]\n",
    "\n",
    "plt.rcParams[\"figure.figsize\"] = (15, 8)\n",
    "plt.scatter(x=setosa[\"sepal.length\"], y=setosa[\"sepal.width\"], label=\"Setosa\")\n",
    "plt.scatter(x=versicolor[\"sepal.length\"], y=versicolor[\"sepal.width\"], label=\"Versicolor\")\n",
    "plt.scatter(x=virginica[\"sepal.length\"], y=virginica[\"sepal.width\"], label=\"Virginica\")\n",
    "plt.legend()\n",
    "plt.show();"
   ]
  },
  {
   "cell_type": "markdown",
   "id": "bf5811ba",
   "metadata": {},
   "source": [
    "### Creating Train and Test Data:"
   ]
  },
  {
   "cell_type": "code",
   "execution_count": 5,
   "id": "4ba7fcf4",
   "metadata": {},
   "outputs": [],
   "source": [
    "from sklearn.model_selection import train_test_split\n",
    "\n",
    "label = data[\"variety\"]\n",
    "data.drop(\"variety\", axis=1, inplace=True)\n",
    "\n",
    "x_train, x_test, y_train, y_test = train_test_split(data, label, test_size=0.2, shuffle=True)"
   ]
  },
  {
   "cell_type": "markdown",
   "id": "c20e2a28",
   "metadata": {},
   "source": [
    "### Normalize Data:"
   ]
  },
  {
   "cell_type": "code",
   "execution_count": 6,
   "id": "fb1d13ea",
   "metadata": {},
   "outputs": [],
   "source": [
    "from sklearn.preprocessing import StandardScaler\n",
    "\n",
    "scaler = StandardScaler()\n",
    "scaler.fit(x_train)\n",
    "x_train = scaler.transform(x_train)\n",
    "x_test = scaler.transform(x_test)"
   ]
  },
  {
   "cell_type": "markdown",
   "id": "b2bc9d10",
   "metadata": {},
   "source": [
    "### Modeling:"
   ]
  },
  {
   "cell_type": "code",
   "execution_count": 7,
   "id": "ba82b051",
   "metadata": {},
   "outputs": [
    {
     "data": {
      "text/plain": [
       "KNeighborsClassifier()"
      ]
     },
     "execution_count": 7,
     "metadata": {},
     "output_type": "execute_result"
    }
   ],
   "source": [
    "from sklearn.neighbors import KNeighborsClassifier\n",
    "\n",
    "model = KNeighborsClassifier(n_neighbors=5)\n",
    "model.fit(x_train, y_train)"
   ]
  },
  {
   "cell_type": "markdown",
   "id": "d6487e0f",
   "metadata": {},
   "source": [
    "### Prediction:"
   ]
  },
  {
   "cell_type": "code",
   "execution_count": 8,
   "id": "52052c0b",
   "metadata": {
    "scrolled": true
   },
   "outputs": [
    {
     "data": {
      "text/plain": [
       "array(['Setosa', 'Versicolor', 'Virginica', 'Setosa', 'Versicolor',\n",
       "       'Setosa', 'Versicolor', 'Virginica', 'Versicolor', 'Setosa',\n",
       "       'Virginica', 'Versicolor', 'Virginica', 'Versicolor', 'Versicolor',\n",
       "       'Setosa', 'Versicolor', 'Versicolor', 'Virginica', 'Setosa',\n",
       "       'Virginica', 'Setosa', 'Virginica', 'Versicolor', 'Virginica',\n",
       "       'Virginica', 'Versicolor', 'Versicolor', 'Setosa', 'Setosa'],\n",
       "      dtype=object)"
      ]
     },
     "execution_count": 8,
     "metadata": {},
     "output_type": "execute_result"
    }
   ],
   "source": [
    "prediction = model.predict(x_test)\n",
    "prediction"
   ]
  },
  {
   "cell_type": "markdown",
   "id": "7f5a9a1b",
   "metadata": {},
   "source": [
    "* [go to contents](#contents)"
   ]
  },
  {
   "cell_type": "markdown",
   "id": "552a0589",
   "metadata": {},
   "source": [
    "## -Model Evaluation: <a class=\"anchor\" id=\"model_evaluation\"></a>"
   ]
  },
  {
   "cell_type": "markdown",
   "id": "4450b89e",
   "metadata": {},
   "source": [
    "### Accuracy evaluation\n",
    "\n",
    "In multilabel classification, **accuracy classification score** is a function that computes subset accuracy. This function is equal to the jaccard_score function. Essentially, it calculates how closely the actual labels and predicted labels are matched in the test set.\n"
   ]
  },
  {
   "cell_type": "markdown",
   "id": "f0cbcda6",
   "metadata": {},
   "source": [
    "$$ accuracy = \\frac{True Predictions}{n} $$"
   ]
  },
  {
   "cell_type": "code",
   "execution_count": 9,
   "id": "cfaf0932",
   "metadata": {},
   "outputs": [
    {
     "name": "stdout",
     "output_type": "stream",
     "text": [
      "Model Accuracy is: 96.66666666666667%\n"
     ]
    }
   ],
   "source": [
    "from sklearn.metrics import accuracy_score\n",
    "\n",
    "print(f\"Model Accuracy is: {accuracy_score(y_test, prediction)*100}%\")"
   ]
  },
  {
   "cell_type": "markdown",
   "id": "c5d168cd",
   "metadata": {},
   "source": [
    "### Confusion Matrix:"
   ]
  },
  {
   "cell_type": "markdown",
   "id": "b6107c70",
   "metadata": {},
   "source": [
    "<img src=\"https://miro.medium.com/max/1224/1*TS2hsRr528UHQG9nDJhIcA.jpeg\" width=500>"
   ]
  },
  {
   "cell_type": "markdown",
   "id": "5dac8b81",
   "metadata": {},
   "source": [
    "### Precision and Recall:"
   ]
  },
  {
   "cell_type": "markdown",
   "id": "1fe982c2",
   "metadata": {},
   "source": [
    "Let me introduce two new metrics (if you have not heard about it and if you do, perhaps just humor me a bit and continue reading?). Let me put it here for further explanation:"
   ]
  },
  {
   "cell_type": "markdown",
   "id": "50eb95d2",
   "metadata": {},
   "source": [
    "<img src=\"https://miro.medium.com/max/888/1*7J08ekAwupLBegeUI8muHA.png\" width=400>"
   ]
  },
  {
   "cell_type": "markdown",
   "id": "6de8d92f",
   "metadata": {},
   "source": [
    "Let me put in the confusion matrix and its parts here:"
   ]
  },
  {
   "cell_type": "markdown",
   "id": "51226272",
   "metadata": {},
   "source": [
    "<img src=\"https://miro.medium.com/max/1400/1*OhEnS-T54Cz0YSTl_c3Dwg.jpeg\" width=600 >"
   ]
  },
  {
   "cell_type": "markdown",
   "id": "196b0d0b",
   "metadata": {},
   "source": [
    "### Precision:\n",
    "\n",
    "Immediately, you can see that Precision talks about how precise/accurate your model is out of those predicted positive, how many of them are actual positive.\n",
    "\n",
    "Precision is a good measure to determine, when the costs of False Positive is high. For instance, email spam detection. In email spam detection, a false positive means that an email that is non-spam (actual negative) has been identified as spam (predicted spam). The email user might lose important emails if the precision is not high for the spam detection model."
   ]
  },
  {
   "cell_type": "markdown",
   "id": "9677da2e",
   "metadata": {},
   "source": [
    "### Recall:\n",
    "There you go! So Recall actually calculates how many of the Actual Positives our model capture through labeling it as Positive (True Positive). Applying the same understanding, we know that Recall shall be the model metric we use to select our best model when there is a high cost associated with False Negative.\n",
    "\n",
    "For instance, in fraud detection or sick patient detection. If a fraudulent transaction (Actual Positive) is predicted as non-fraudulent (Predicted Negative), the consequence can be very bad for the bank.\n",
    "\n",
    "Similarly, in sick patient detection. If a sick patient (Actual Positive) goes through the test and predicted as not sick (Predicted Negative). The cost associated with False Negative will be extremely high if the sickness is contagious."
   ]
  },
  {
   "cell_type": "code",
   "execution_count": 10,
   "id": "99793b3a",
   "metadata": {
    "scrolled": false
   },
   "outputs": [
    {
     "data": {
      "image/png": "[encoded data removed]",
      "text/plain": [
       "<Figure size 936x504 with 2 Axes>"
      ]
     },
     "metadata": {},
     "output_type": "display_data"
    }
   ],
   "source": [
    "from sklearn.metrics import plot_confusion_matrix\n",
    "\n",
    "plt.rcParams[\"figure.figsize\"] = (13, 7)\n",
    "plot_confusion_matrix(model, x_test, y_test)  \n",
    "plt.show();"
   ]
  },
  {
   "cell_type": "markdown",
   "id": "9f865825",
   "metadata": {},
   "source": [
    "### F1-Score:\n",
    "F1 Score is needed when you want to seek a balance between Precision and Recall. Right…so what is the difference between F1 Score and Accuracy then? We have previously seen that accuracy can be largely contributed by a large number of True Negatives which in most business circumstances, we do not focus on much whereas False Negative and False Positive usually has business costs (tangible & intangible) thus F1 Score might be a better measure to use if we need to seek a balance between Precision and Recall AND there is an uneven class distribution (large number of Actual Negatives)."
   ]
  },
  {
   "cell_type": "markdown",
   "id": "b671de77",
   "metadata": {},
   "source": [
    "<img src=\"https://miro.medium.com/max/564/1*T6kVUKxG_Z4V5Fm1UXhEIw.png\">"
   ]
  },
  {
   "cell_type": "code",
   "execution_count": 11,
   "id": "5545f04f",
   "metadata": {},
   "outputs": [
    {
     "name": "stdout",
     "output_type": "stream",
     "text": [
      "              precision    recall  f1-score   support\n",
      "\n",
      "      Setosa       1.00      1.00      1.00         9\n",
      "  Versicolor       1.00      0.92      0.96        13\n",
      "   Virginica       0.89      1.00      0.94         8\n",
      "\n",
      "    accuracy                           0.97        30\n",
      "   macro avg       0.96      0.97      0.97        30\n",
      "weighted avg       0.97      0.97      0.97        30\n",
      "\n"
     ]
    }
   ],
   "source": [
    "from sklearn.metrics import classification_report\n",
    "\n",
    "print(classification_report(y_test, prediction))"
   ]
  },
  {
   "cell_type": "markdown",
   "id": "bfa7279a",
   "metadata": {},
   "source": [
    "### K-Fold Cross Validation:\n",
    "Cross-validation is a statistical method used to estimate the skill of machine learning models.\n",
    "\n",
    "It is commonly used in applied machine learning to compare and select a model for a given predictive modeling problem because it is easy to understand, easy to implement, and results in skill estimates that generally have a lower bias than other methods."
   ]
  },
  {
   "cell_type": "code",
   "execution_count": 12,
   "id": "e4411789",
   "metadata": {},
   "outputs": [
    {
     "name": "stdout",
     "output_type": "stream",
     "text": [
      "Accuracy: 0.97 (+/- 0.05)\n"
     ]
    }
   ],
   "source": [
    "from sklearn.model_selection import cross_val_score\n",
    "\n",
    "knn = KNeighborsClassifier()\n",
    "scores = cross_val_score(knn, data, label, cv=5, scoring='accuracy')\n",
    "print(\"Accuracy: {} (+/- {})\".format(round(scores.mean(), 2), round(scores.std() * 2, 2)))"
   ]
  },
  {
   "cell_type": "markdown",
   "id": "10f594f8",
   "metadata": {},
   "source": [
    "* [go to contents](#contents)"
   ]
  },
  {
   "cell_type": "markdown",
   "id": "e14c5e3c",
   "metadata": {},
   "source": [
    "## -KNN Regression: <a class=\"anchor\" id=\"knn_reg\"></a>\n",
    "KNN regression is a non-parametric method that, in an intuitive manner, approximates the association between independent variables and the continuous outcome by averaging the observations in the same neighbourhood."
   ]
  },
  {
   "cell_type": "markdown",
   "id": "1244151e",
   "metadata": {},
   "source": [
    "### About boston Dataset:\n",
    "### `boston.csv`:\n",
    "The Boston Housing Dataset is a derived from information collected by the U.S. Census Service concerning housing in the area of Boston MA. The following describes the dataset columns:\n",
    "\n",
    "*    CRIM - per capita crime rate by town\n",
    "*    ZN - proportion of residential land zoned for lots over 25,000 sq.ft.\n",
    "*    INDUS - proportion of non-retail business acres per town.\n",
    "*    CHAS - Charles River dummy variable (1 if tract bounds river; 0 otherwise)\n",
    "*    NOX - nitric oxides concentration (parts per 10 million)\n",
    "*    RM - average number of rooms per dwelling\n",
    "*    AGE - proportion of owner-occupied units built prior to 1940\n",
    "*    DIS - weighted distances to five Boston employment centres\n",
    "*    RAD - index of accessibility to radial highways\n",
    "*    TAX - full-value property-tax rate per 10,000 dollors\n",
    "*    PTRATIO - pupil-teacher ratio by town\n",
    "*    B - 1000(Bk - 0.63)^2 where Bk is the proportion of blacks by town\n",
    "*    LSTAT - % lower status of the population\n",
    "*    MEDV - Median value of owner-occupied homes in $1000's"
   ]
  },
  {
   "cell_type": "code",
   "execution_count": 13,
   "id": "7eba5097",
   "metadata": {},
   "outputs": [
    {
     "data": {
      "text/html": [
       "<div>\n",
       "<style scoped>\n",
       "    .dataframe tbody tr th:only-of-type {\n",
       "        vertical-align: middle;\n",
       "    }\n",
       "\n",
       "    .dataframe tbody tr th {\n",
       "        vertical-align: top;\n",
       "    }\n",
       "\n",
       "    .dataframe thead th {\n",
       "        text-align: right;\n",
       "    }\n",
       "</style>\n",
       "<table border=\"1\" class=\"dataframe\">\n",
       "  <thead>\n",
       "    <tr style=\"text-align: right;\">\n",
       "      <th></th>\n",
       "      <th>crim</th>\n",
       "      <th>zn</th>\n",
       "      <th>indus</th>\n",
       "      <th>chas</th>\n",
       "      <th>nox</th>\n",
       "      <th>rm</th>\n",
       "      <th>age</th>\n",
       "      <th>dis</th>\n",
       "      <th>rad</th>\n",
       "      <th>tax</th>\n",
       "      <th>ptratio</th>\n",
       "      <th>b</th>\n",
       "      <th>lstat</th>\n",
       "      <th>medv</th>\n",
       "    </tr>\n",
       "  </thead>\n",
       "  <tbody>\n",
       "    <tr>\n",
       "      <th>0</th>\n",
       "      <td>0.00632</td>\n",
       "      <td>18.0</td>\n",
       "      <td>2.31</td>\n",
       "      <td>0</td>\n",
       "      <td>0.538</td>\n",
       "      <td>6.575</td>\n",
       "      <td>65.2</td>\n",
       "      <td>4.0900</td>\n",
       "      <td>1</td>\n",
       "      <td>296</td>\n",
       "      <td>15.3</td>\n",
       "      <td>396.90</td>\n",
       "      <td>4.98</td>\n",
       "      <td>24.0</td>\n",
       "    </tr>\n",
       "    <tr>\n",
       "      <th>1</th>\n",
       "      <td>0.02731</td>\n",
       "      <td>0.0</td>\n",
       "      <td>7.07</td>\n",
       "      <td>0</td>\n",
       "      <td>0.469</td>\n",
       "      <td>6.421</td>\n",
       "      <td>78.9</td>\n",
       "      <td>4.9671</td>\n",
       "      <td>2</td>\n",
       "      <td>242</td>\n",
       "      <td>17.8</td>\n",
       "      <td>396.90</td>\n",
       "      <td>9.14</td>\n",
       "      <td>21.6</td>\n",
       "    </tr>\n",
       "    <tr>\n",
       "      <th>2</th>\n",
       "      <td>0.02729</td>\n",
       "      <td>0.0</td>\n",
       "      <td>7.07</td>\n",
       "      <td>0</td>\n",
       "      <td>0.469</td>\n",
       "      <td>7.185</td>\n",
       "      <td>61.1</td>\n",
       "      <td>4.9671</td>\n",
       "      <td>2</td>\n",
       "      <td>242</td>\n",
       "      <td>17.8</td>\n",
       "      <td>392.83</td>\n",
       "      <td>4.03</td>\n",
       "      <td>34.7</td>\n",
       "    </tr>\n",
       "    <tr>\n",
       "      <th>3</th>\n",
       "      <td>0.03237</td>\n",
       "      <td>0.0</td>\n",
       "      <td>2.18</td>\n",
       "      <td>0</td>\n",
       "      <td>0.458</td>\n",
       "      <td>6.998</td>\n",
       "      <td>45.8</td>\n",
       "      <td>6.0622</td>\n",
       "      <td>3</td>\n",
       "      <td>222</td>\n",
       "      <td>18.7</td>\n",
       "      <td>394.63</td>\n",
       "      <td>2.94</td>\n",
       "      <td>33.4</td>\n",
       "    </tr>\n",
       "    <tr>\n",
       "      <th>4</th>\n",
       "      <td>0.06905</td>\n",
       "      <td>0.0</td>\n",
       "      <td>2.18</td>\n",
       "      <td>0</td>\n",
       "      <td>0.458</td>\n",
       "      <td>7.147</td>\n",
       "      <td>54.2</td>\n",
       "      <td>6.0622</td>\n",
       "      <td>3</td>\n",
       "      <td>222</td>\n",
       "      <td>18.7</td>\n",
       "      <td>396.90</td>\n",
       "      <td>5.33</td>\n",
       "      <td>36.2</td>\n",
       "    </tr>\n",
       "  </tbody>\n",
       "</table>\n",
       "</div>"
      ],
      "text/plain": [
       "      crim    zn  indus  chas    nox     rm   age     dis  rad  tax  ptratio  \\\n",
       "0  0.00632  18.0   2.31     0  0.538  6.575  65.2  4.0900    1  296     15.3   \n",
       "1  0.02731   0.0   7.07     0  0.469  6.421  78.9  4.9671    2  242     17.8   \n",
       "2  0.02729   0.0   7.07     0  0.469  7.185  61.1  4.9671    2  242     17.8   \n",
       "3  0.03237   0.0   2.18     0  0.458  6.998  45.8  6.0622    3  222     18.7   \n",
       "4  0.06905   0.0   2.18     0  0.458  7.147  54.2  6.0622    3  222     18.7   \n",
       "\n",
       "        b  lstat  medv  \n",
       "0  396.90   4.98  24.0  \n",
       "1  396.90   9.14  21.6  \n",
       "2  392.83   4.03  34.7  \n",
       "3  394.63   2.94  33.4  \n",
       "4  396.90   5.33  36.2  "
      ]
     },
     "execution_count": 13,
     "metadata": {},
     "output_type": "execute_result"
    }
   ],
   "source": [
    "data = pd.read_csv(\"boston.csv\")\n",
    "data.head()"
   ]
  },
  {
   "cell_type": "code",
   "execution_count": 14,
   "id": "e3795e05",
   "metadata": {},
   "outputs": [],
   "source": [
    "label = data[\"medv\"]\n",
    "data.drop(\"medv\", axis=1, inplace=True)\n",
    "\n",
    "x_train, x_test, y_train, y_test = train_test_split(data, label, test_size=0.2, shuffle=True)"
   ]
  },
  {
   "cell_type": "code",
   "execution_count": 15,
   "id": "a37e8a6d",
   "metadata": {},
   "outputs": [
    {
     "name": "stdout",
     "output_type": "stream",
     "text": [
      "MAE: 4.053529411764706\n"
     ]
    }
   ],
   "source": [
    "from sklearn.neighbors import KNeighborsRegressor\n",
    "from sklearn.metrics import mean_absolute_error\n",
    "\n",
    "model = KNeighborsRegressor(n_neighbors=5)\n",
    "model.fit(x_train, y_train)\n",
    "prediction = model.predict(x_test)\n",
    "print(f\"MAE: {mean_absolute_error(y_test, prediction)}\")"
   ]
  },
  {
   "cell_type": "markdown",
   "id": "aacd8f4a",
   "metadata": {},
   "source": [
    "## -Resources: <a class=\"anchor\" id=\"resources\"></a>"
   ]
  },
  {
   "cell_type": "markdown",
   "id": "1020901c",
   "metadata": {},
   "source": [
    "   *    Edx IBM Developer Skills Network, Machine Learning Course With Saaed Aghabozorgi & Joseph Santarcangelo.\n",
    "   *    Maktabkhooneh Machine Learning With Jadi Course.\n",
    "   *    https://builtin.com/data-science/regression-machine-learning\n",
    "   *    https://towardsdatascience.com/accuracy-precision-recall-or-f1-331fb37c5cb9"
   ]
  },
  {
   "cell_type": "markdown",
   "id": "5288a518",
   "metadata": {},
   "source": [
    "* [go to contents](#contents)"
   ]
  }
 ],
 "metadata": {
  "kernelspec": {
   "display_name": "Python 3 (ipykernel)",
   "language": "python",
   "name": "python3"
  },
  "language_info": {
   "codemirror_mode": {
    "name": "ipython",
    "version": 3
   },
   "file_extension": ".py",
   "mimetype": "text/x-python",
   "name": "python",
   "nbconvert_exporter": "python",
   "pygments_lexer": "ipython3",
   "version": "3.8.5"
  }
 },
 "nbformat": 4,
 "nbformat_minor": 5
}
